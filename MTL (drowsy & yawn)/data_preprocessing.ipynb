{
 "cells": [
  {
   "cell_type": "code",
   "execution_count": 1,
   "id": "initial_id",
   "metadata": {
    "collapsed": true,
    "ExecuteTime": {
     "end_time": "2025-04-09T11:10:45.348882500Z",
     "start_time": "2025-04-09T11:10:40.162825200Z"
    }
   },
   "outputs": [],
   "source": [
    "import pandas as pd"
   ]
  },
  {
   "cell_type": "code",
   "execution_count": 13,
   "outputs": [],
   "source": [
    "train_path = \"mtl_data/train\"\n",
    "test_path = \"mtl_data/test\"\n",
    "valid_path = \"mtl_data/valid\""
   ],
   "metadata": {
    "collapsed": false,
    "ExecuteTime": {
     "end_time": "2025-04-09T11:49:53.493781600Z",
     "start_time": "2025-04-09T11:49:53.428600700Z"
    }
   },
   "id": "9a8e7bc7dfa7b9ed"
  },
  {
   "cell_type": "code",
   "execution_count": 14,
   "outputs": [],
   "source": [
    "train_df = pd.read_csv(train_path+'/_classes.csv')\n",
    "test_df = pd.read_csv(test_path+'/_classes.csv')\n",
    "valid_df = pd.read_csv(valid_path+'/_classes.csv')"
   ],
   "metadata": {
    "collapsed": false,
    "ExecuteTime": {
     "end_time": "2025-04-09T11:49:54.165985800Z",
     "start_time": "2025-04-09T11:49:54.103368300Z"
    }
   },
   "id": "88323b11d0f1b454"
  },
  {
   "cell_type": "code",
   "execution_count": 15,
   "outputs": [
    {
     "name": "stdout",
     "output_type": "stream",
     "text": [
      "<class 'pandas.core.frame.DataFrame'>\n",
      "RangeIndex: 1512 entries, 0 to 1511\n",
      "Data columns (total 3 columns):\n",
      " #   Column    Non-Null Count  Dtype \n",
      "---  ------    --------------  ----- \n",
      " 0   filename  1512 non-null   object\n",
      " 1   0         1512 non-null   int64 \n",
      " 2   1         1512 non-null   int64 \n",
      "dtypes: int64(2), object(1)\n",
      "memory usage: 35.6+ KB\n"
     ]
    }
   ],
   "source": [
    "train_df.info()"
   ],
   "metadata": {
    "collapsed": false,
    "ExecuteTime": {
     "end_time": "2025-04-09T11:49:55.236085800Z",
     "start_time": "2025-04-09T11:49:55.139511600Z"
    }
   },
   "id": "1b7d3946afedcfd"
  },
  {
   "cell_type": "code",
   "execution_count": 16,
   "outputs": [
    {
     "data": {
      "text/plain": "                                            filename  0  1\n0   9175_jpg.rf.368ca78302f0b4f070019c12f46dedbc.jpg  1  0\n1   9169_jpg.rf.3dd91a23d55d01d56453a5f6763929e5.jpg  1  0\n2   9176_jpg.rf.057b1239026f0cea2082612582c6e3db.jpg  1  0\n3  10059_jpg.rf.0302b82e1c6443552752976970bcfaf7.jpg  1  0\n4   9165_jpg.rf.11efabc84bb99e51dffc8553b21f9846.jpg  1  0",
      "text/html": "<div>\n<style scoped>\n    .dataframe tbody tr th:only-of-type {\n        vertical-align: middle;\n    }\n\n    .dataframe tbody tr th {\n        vertical-align: top;\n    }\n\n    .dataframe thead th {\n        text-align: right;\n    }\n</style>\n<table border=\"1\" class=\"dataframe\">\n  <thead>\n    <tr style=\"text-align: right;\">\n      <th></th>\n      <th>filename</th>\n      <th>0</th>\n      <th>1</th>\n    </tr>\n  </thead>\n  <tbody>\n    <tr>\n      <th>0</th>\n      <td>9175_jpg.rf.368ca78302f0b4f070019c12f46dedbc.jpg</td>\n      <td>1</td>\n      <td>0</td>\n    </tr>\n    <tr>\n      <th>1</th>\n      <td>9169_jpg.rf.3dd91a23d55d01d56453a5f6763929e5.jpg</td>\n      <td>1</td>\n      <td>0</td>\n    </tr>\n    <tr>\n      <th>2</th>\n      <td>9176_jpg.rf.057b1239026f0cea2082612582c6e3db.jpg</td>\n      <td>1</td>\n      <td>0</td>\n    </tr>\n    <tr>\n      <th>3</th>\n      <td>10059_jpg.rf.0302b82e1c6443552752976970bcfaf7.jpg</td>\n      <td>1</td>\n      <td>0</td>\n    </tr>\n    <tr>\n      <th>4</th>\n      <td>9165_jpg.rf.11efabc84bb99e51dffc8553b21f9846.jpg</td>\n      <td>1</td>\n      <td>0</td>\n    </tr>\n  </tbody>\n</table>\n</div>"
     },
     "execution_count": 16,
     "metadata": {},
     "output_type": "execute_result"
    }
   ],
   "source": [
    "train_df.head()"
   ],
   "metadata": {
    "collapsed": false,
    "ExecuteTime": {
     "end_time": "2025-04-09T11:50:06.498583300Z",
     "start_time": "2025-04-09T11:50:06.460285700Z"
    }
   },
   "id": "2e361155c548ccb7"
  },
  {
   "cell_type": "code",
   "execution_count": 22,
   "outputs": [
    {
     "data": {
      "text/plain": "0       0\n1       0\n2       0\n3       0\n4       0\n       ..\n1507    1\n1508    1\n1509    1\n1510    1\n1511    1\nName: 1, Length: 1512, dtype: int64"
     },
     "execution_count": 22,
     "metadata": {},
     "output_type": "execute_result"
    }
   ],
   "source": [
    "train_df['1']"
   ],
   "metadata": {
    "collapsed": false,
    "ExecuteTime": {
     "end_time": "2025-04-09T11:56:52.090359300Z",
     "start_time": "2025-04-09T11:56:51.982827900Z"
    }
   },
   "id": "14282d821c419074"
  },
  {
   "cell_type": "code",
   "execution_count": 7,
   "outputs": [],
   "source": [
    "import os\n",
    "import shutil"
   ],
   "metadata": {
    "collapsed": false,
    "ExecuteTime": {
     "end_time": "2025-04-11T15:27:38.069491600Z",
     "start_time": "2025-04-11T15:27:38.014107100Z"
    }
   },
   "id": "5e419649e4c9a401"
  },
  {
   "cell_type": "code",
   "execution_count": 23,
   "outputs": [],
   "source": [
    "def organize_images(df, file_path):\n",
    "    \"\"\"\n",
    "    Organizes image files into class-specific folders based on DataFrame annotations.\n",
    "\n",
    "    Parameters:\n",
    "    - df: pandas DataFrame with columns ['filename', 0, 1].\n",
    "          'filename' contains image file names.\n",
    "          Columns 0 and 1 are binary indicators for class membership.\n",
    "    - file_path: String path to the directory containing the image files.\n",
    "    \"\"\"\n",
    "    # Define the target directories\n",
    "    class_dirs = {0: os.path.join(file_path, '0'), 1: os.path.join(file_path, '1')}\n",
    "\n",
    "    # Create class directories if they don't exist\n",
    "    for dir_path in class_dirs.values():\n",
    "        os.makedirs(dir_path, exist_ok=True)\n",
    "\n",
    "    # Iterate over DataFrame rows\n",
    "    for _, row in df.iterrows():\n",
    "        filename = row['filename']\n",
    "        src_path = os.path.join(file_path, filename)\n",
    "\n",
    "        # Check if the file exists before attempting to move\n",
    "        if os.path.exists(src_path):\n",
    "            # Determine the target class based on the DataFrame indicators\n",
    "            if row[1] == 1:\n",
    "                dst_path = class_dirs[1]\n",
    "            else:\n",
    "                dst_path = class_dirs[0]\n",
    "\n",
    "            # Move the file to the appropriate class directory\n",
    "            shutil.move(src_path, os.path.join(dst_path, filename))\n",
    "        else:\n",
    "            print(f\"File not found: {src_path}\")"
   ],
   "metadata": {
    "collapsed": false,
    "ExecuteTime": {
     "end_time": "2025-04-09T12:06:27.643102300Z",
     "start_time": "2025-04-09T12:06:27.580482600Z"
    }
   },
   "id": "d0bef3153d6d55d0"
  },
  {
   "cell_type": "code",
   "execution_count": 24,
   "outputs": [],
   "source": [
    "organize_images(train_df,train_path)\n",
    "organize_images(test_df,test_path)\n",
    "organize_images(valid_df,valid_path)"
   ],
   "metadata": {
    "collapsed": false,
    "ExecuteTime": {
     "end_time": "2025-04-09T12:06:34.224019400Z",
     "start_time": "2025-04-09T12:06:29.344266Z"
    }
   },
   "id": "d698d0455508b724"
  },
  {
   "cell_type": "code",
   "execution_count": 33,
   "outputs": [],
   "source": [
    "import cv2\n",
    "import mediapipe as mp"
   ],
   "metadata": {
    "collapsed": false,
    "ExecuteTime": {
     "end_time": "2025-04-10T05:18:06.569935200Z",
     "start_time": "2025-04-10T05:18:01.582187Z"
    }
   },
   "id": "318f8222e445618d"
  },
  {
   "cell_type": "code",
   "execution_count": 36,
   "outputs": [],
   "source": [
    "def crop_images(folder_path, output_folder=\"cropped_heads\"):\n",
    "    os.makedirs(output_folder, exist_ok=True)\n",
    "\n",
    "    mp_face_mesh = mp.solutions.face_mesh\n",
    "    face_mesh = mp_face_mesh.FaceMesh(static_image_mode=True)\n",
    "\n",
    "    for filename in os.listdir(folder_path):\n",
    "        if not filename.lower().endswith(('.jpg', '.jpeg', '.png')):\n",
    "            continue\n",
    "\n",
    "        image_path = os.path.join(folder_path, filename)\n",
    "        image = cv2.imread(image_path)\n",
    "        height, width, _ = image.shape\n",
    "\n",
    "        rgb_image = cv2.cvtColor(image, cv2.COLOR_BGR2RGB)\n",
    "        results = face_mesh.process(rgb_image)\n",
    "\n",
    "        if results.multi_face_landmarks:\n",
    "            for i, face_landmarks in enumerate(results.multi_face_landmarks):\n",
    "                # Get key landmarks for bounding box\n",
    "                xs = [int(point.x * width) for point in face_landmarks.landmark]\n",
    "                ys = [int(point.y * height) for point in face_landmarks.landmark]\n",
    "\n",
    "                x_min = max(min(xs), 0)\n",
    "                x_max = min(max(xs), width)\n",
    "                y_min = max(min(ys), 0)\n",
    "                y_max = min(max(ys), height)\n",
    "\n",
    "                # Add margin to include forehead & below chin\n",
    "                y_margin_top = int((y_max - y_min) * 0.3)\n",
    "                y_margin_bottom = int((y_max - y_min) * 0.2)\n",
    "\n",
    "                y_start = max(y_min - y_margin_top, 0)\n",
    "                y_end = min(y_max + y_margin_bottom, height)\n",
    "\n",
    "                cropped_face = image[y_start:y_end, x_min:x_max]\n",
    "\n",
    "                # Skip tiny crops (bad detections)\n",
    "                if cropped_face.shape[0] < 100 or cropped_face.shape[1] < 100:\n",
    "                    continue\n",
    "\n",
    "                output_filename = f\"{os.path.splitext(filename)[0]}_head{i}.jpg\"\n",
    "                output_path = os.path.join(output_folder, output_filename)\n",
    "                cv2.imwrite(output_path, cropped_face)\n",
    "\n",
    "    print(f\"Cropped heads saved to: {output_folder}\")"
   ],
   "metadata": {
    "collapsed": false,
    "ExecuteTime": {
     "end_time": "2025-04-10T05:19:13.772908600Z",
     "start_time": "2025-04-10T05:19:13.699488900Z"
    }
   },
   "id": "2538e00f405d69d1"
  },
  {
   "cell_type": "code",
   "execution_count": 37,
   "outputs": [
    {
     "name": "stdout",
     "output_type": "stream",
     "text": [
      "Cropped heads saved to: cropped_heads\n"
     ]
    }
   ],
   "source": [
    "crop_images('data/yawn_data/awake')"
   ],
   "metadata": {
    "collapsed": false,
    "ExecuteTime": {
     "end_time": "2025-04-10T05:19:52.813637400Z",
     "start_time": "2025-04-10T05:19:16.042042700Z"
    }
   },
   "id": "63b477cbc1a94abb"
  },
  {
   "cell_type": "code",
   "execution_count": 38,
   "outputs": [
    {
     "name": "stdout",
     "output_type": "stream",
     "text": [
      "Cropped heads saved to: cropped_heads\n"
     ]
    }
   ],
   "source": [
    "crop_images('data/yawn_data/drowsy')"
   ],
   "metadata": {
    "collapsed": false,
    "ExecuteTime": {
     "end_time": "2025-04-10T05:26:14.641315900Z",
     "start_time": "2025-04-10T05:25:15.275474300Z"
    }
   },
   "id": "6f01647a3f94e139"
  },
  {
   "cell_type": "code",
   "execution_count": 2,
   "outputs": [],
   "source": [
    "import random\n",
    "from PIL import Image"
   ],
   "metadata": {
    "collapsed": false,
    "ExecuteTime": {
     "end_time": "2025-04-11T15:24:57.940021800Z",
     "start_time": "2025-04-11T15:24:57.724241100Z"
    }
   },
   "id": "3cbd64b1190b673e"
  },
  {
   "cell_type": "code",
   "execution_count": 15,
   "outputs": [],
   "source": [
    "def augment_images(folder_path, target_count):\n",
    "    # Get list of existing image files\n",
    "    image_files = [f for f in os.listdir(folder_path) if f.lower().endswith(('.png', '.jpg', '.jpeg'))]\n",
    "    \n",
    "    current_count = len(image_files)\n",
    "    if current_count >= target_count:\n",
    "        print(f\"Already have {current_count} images. No augmentation needed.\")\n",
    "        return\n",
    "\n",
    "    print(f\"Starting augmentation: {current_count} → {target_count} images\")\n",
    "    new_images_needed = target_count - current_count\n",
    "    generated = 0\n",
    "\n",
    "    while generated < new_images_needed:\n",
    "        # Pick a random image\n",
    "        img_name = random.choice(image_files)\n",
    "        img_path = os.path.join(folder_path, img_name)\n",
    "\n",
    "        # Open and rotate the image\n",
    "        with Image.open(img_path) as img:\n",
    "            angle = random.uniform(-25, 25)  # Rotation within ±60 degrees\n",
    "            rotated = img.rotate(angle, resample=Image.BICUBIC, expand=False)\n",
    "\n",
    "            # Randomly apply horizontal flip\n",
    "            if random.random() < 0.5:\n",
    "                rotated = rotated.transpose(Image.FLIP_LEFT_RIGHT)\n",
    "\n",
    "            # Save with new name\n",
    "            base_name, ext = os.path.splitext(img_name)\n",
    "            new_name = f\"{base_name}_aug_{generated}{ext}\"\n",
    "            rotated.save(os.path.join(folder_path, new_name))\n",
    "\n",
    "        generated += 1\n",
    "\n",
    "    print(f\"✅ Augmentation complete: {target_count} images in total now.\")"
   ],
   "metadata": {
    "collapsed": false,
    "ExecuteTime": {
     "end_time": "2025-04-11T16:38:20.024302300Z",
     "start_time": "2025-04-11T16:38:19.991240500Z"
    }
   },
   "id": "e3726e507708084b"
  },
  {
   "cell_type": "code",
   "execution_count": 11,
   "outputs": [
    {
     "name": "stdout",
     "output_type": "stream",
     "text": [
      "Starting augmentation: 22348 → 23000 images\n",
      "✅ Augmentation complete: 23000 images in total now.\n"
     ]
    }
   ],
   "source": [
    "augment_images('data/drowsy_data/Drowsy',23000)"
   ],
   "metadata": {
    "collapsed": false,
    "ExecuteTime": {
     "end_time": "2025-04-11T16:12:39.694161800Z",
     "start_time": "2025-04-11T16:11:28.778116800Z"
    }
   },
   "id": "5344760e6d057339"
  },
  {
   "cell_type": "code",
   "execution_count": 12,
   "outputs": [
    {
     "name": "stdout",
     "output_type": "stream",
     "text": [
      "Starting augmentation: 19445 → 23000 images\n",
      "✅ Augmentation complete: 23000 images in total now.\n"
     ]
    }
   ],
   "source": [
    "augment_images('data/drowsy_data/Non Drowsy',23000)"
   ],
   "metadata": {
    "collapsed": false,
    "ExecuteTime": {
     "end_time": "2025-04-11T16:22:08.754068300Z",
     "start_time": "2025-04-11T16:16:09.081806700Z"
    }
   },
   "id": "8eaca80b921ccbc3"
  },
  {
   "cell_type": "code",
   "execution_count": 16,
   "outputs": [
    {
     "name": "stdout",
     "output_type": "stream",
     "text": [
      "Starting augmentation: 1059 → 23000 images\n",
      "✅ Augmentation complete: 23000 images in total now.\n"
     ]
    }
   ],
   "source": [
    "augment_images('data/yawn_data/awake',23000)"
   ],
   "metadata": {
    "collapsed": false,
    "ExecuteTime": {
     "end_time": "2025-04-11T16:45:32.368665700Z",
     "start_time": "2025-04-11T16:38:26.119034900Z"
    }
   },
   "id": "66643141d3ddc1f7"
  },
  {
   "cell_type": "code",
   "execution_count": 17,
   "outputs": [
    {
     "name": "stdout",
     "output_type": "stream",
     "text": [
      "Starting augmentation: 1058 → 23000 images\n",
      "✅ Augmentation complete: 23000 images in total now.\n"
     ]
    }
   ],
   "source": [
    "augment_images('data/yawn_data/drowsy',23000)"
   ],
   "metadata": {
    "collapsed": false,
    "ExecuteTime": {
     "end_time": "2025-04-11T16:51:01.061750200Z",
     "start_time": "2025-04-11T16:45:32.365660800Z"
    }
   },
   "id": "ceff7b0cdbe3598b"
  },
  {
   "cell_type": "code",
   "execution_count": null,
   "outputs": [],
   "source": [],
   "metadata": {
    "collapsed": false
   },
   "id": "f4cad042cfc966ce"
  }
 ],
 "metadata": {
  "kernelspec": {
   "display_name": "Python 3",
   "language": "python",
   "name": "python3"
  },
  "language_info": {
   "codemirror_mode": {
    "name": "ipython",
    "version": 2
   },
   "file_extension": ".py",
   "mimetype": "text/x-python",
   "name": "python",
   "nbconvert_exporter": "python",
   "pygments_lexer": "ipython2",
   "version": "2.7.6"
  }
 },
 "nbformat": 4,
 "nbformat_minor": 5
}
