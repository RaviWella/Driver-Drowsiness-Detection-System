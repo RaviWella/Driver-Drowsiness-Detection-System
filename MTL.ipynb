{
 "cells": [
  {
   "cell_type": "code",
   "execution_count": 1,
   "id": "initial_id",
   "metadata": {
    "collapsed": true,
    "ExecuteTime": {
     "end_time": "2025-04-06T09:30:02.372259800Z",
     "start_time": "2025-04-06T09:29:40.008810700Z"
    }
   },
   "outputs": [],
   "source": [
    "import os\n",
    "from PIL import Image\n",
    "import torch\n",
    "import torch.nn as nn\n",
    "import torch.nn.functional as F\n",
    "import torch.optim as optim\n",
    "from torchvision import transforms\n",
    "from torchvision.models import mobilenet_v2\n",
    "from torch.utils.data import Dataset, DataLoader, random_split"
   ]
  },
  {
   "cell_type": "markdown",
   "source": [
    "# Dataset Class"
   ],
   "metadata": {
    "collapsed": false
   },
   "id": "689f1666dcc99e92"
  },
  {
   "cell_type": "code",
   "execution_count": 27,
   "outputs": [],
   "source": [
    "class MultiTaskDataset(Dataset):\n",
    "    def __init__(self, drowsy_dir, gesture_dir, transform=None):\n",
    "        self.transform = transform\n",
    "\n",
    "        self.drowsy_classes = sorted(os.listdir(drowsy_dir))\n",
    "        self.gesture_classes = sorted(os.listdir(gesture_dir))\n",
    "\n",
    "        self.drowsy_map = {c: i for i, c in enumerate(self.drowsy_classes)}\n",
    "        self.gesture_map = {c: i for i, c in enumerate(self.gesture_classes)}\n",
    "\n",
    "        self.drowsy_images = []\n",
    "        self.gesture_images = []\n",
    "\n",
    "        # Collect drowsy images\n",
    "        for d_label in self.drowsy_classes:\n",
    "            d_class_dir = os.path.join(drowsy_dir, d_label)\n",
    "            for fname in os.listdir(d_class_dir):\n",
    "                img_path = os.path.join(d_class_dir, fname)\n",
    "                self.drowsy_images.append((img_path, self.drowsy_map[d_label]))\n",
    "\n",
    "        # Collect gesture images\n",
    "        for g_label in self.gesture_classes:\n",
    "            g_class_dir = os.path.join(gesture_dir, g_label)\n",
    "            for fname in os.listdir(g_class_dir):\n",
    "                img_path = os.path.join(g_class_dir, fname)\n",
    "                self.gesture_images.append((img_path, self.gesture_map[g_label]))\n",
    "\n",
    "        # Truncate to the smallest dataset length\n",
    "        self.length = min(len(self.drowsy_images), len(self.gesture_images))\n",
    "        self.drowsy_images = self.drowsy_images[:self.length]\n",
    "        self.gesture_images = self.gesture_images[:self.length]\n",
    "\n",
    "        print(f\"Paired {self.length} drowsy and gesture images.\")\n",
    "\n",
    "    def __len__(self):\n",
    "        return self.length\n",
    "\n",
    "    def __getitem__(self, idx):\n",
    "        d_img_path, d_label = self.drowsy_images[idx]\n",
    "        g_img_path, g_label = self.gesture_images[idx]\n",
    "\n",
    "        # You can pick either image — we’ll use the drowsy one\n",
    "        img = Image.open(d_img_path).convert(\"L\")  # Grayscale\n",
    "\n",
    "        if self.transform:\n",
    "            img = self.transform(img)\n",
    "\n",
    "        return img, d_label, g_label"
   ],
   "metadata": {
    "collapsed": false,
    "ExecuteTime": {
     "end_time": "2025-04-06T14:24:49.828576700Z",
     "start_time": "2025-04-06T14:24:49.801578Z"
    }
   },
   "id": "ee69febfd4eb6f68"
  },
  {
   "cell_type": "markdown",
   "source": [
    "# Transformation Pipeline"
   ],
   "metadata": {
    "collapsed": false
   },
   "id": "eae0314e601ee1b6"
  },
  {
   "cell_type": "code",
   "execution_count": 38,
   "outputs": [],
   "source": [
    "transform = transforms.Compose([\n",
    "    transforms.Grayscale(num_output_channels=1),\n",
    "    transforms.Resize((128, 128)),\n",
    "    transforms.ToTensor(),  # Converts to [1, H, W] for grayscale\n",
    "])\n",
    "\n",
    "# transforms.Grayscale(num_output_channels=1),  # Ensure it's 1 channel\n",
    "#     transforms.Resize((224, 224)),\n",
    "#     transforms.RandomHorizontalFlip(),\n",
    "#     transforms.RandomRotation(degrees=15),\n",
    "#     transforms.ToTensor(),  # Convert to Tensor (required for normalization)\n",
    "#     transforms.Normalize(mean=[0.5], std=[0.5])"
   ],
   "metadata": {
    "collapsed": false,
    "ExecuteTime": {
     "end_time": "2025-04-06T18:20:54.131256900Z",
     "start_time": "2025-04-06T18:20:54.065944500Z"
    }
   },
   "id": "2cce8a6b069272b7"
  },
  {
   "cell_type": "markdown",
   "source": [
    "# Modified MobileNetV2 for Grayscale and Multi-task"
   ],
   "metadata": {
    "collapsed": false
   },
   "id": "9d04be8bca38e7f5"
  },
  {
   "cell_type": "code",
   "execution_count": 39,
   "outputs": [],
   "source": [
    "class MultiTaskMobileNet(nn.Module):\n",
    "    def __init__(self, num_drowsy_classes, num_gesture_classes):\n",
    "        super().__init__()\n",
    "        base_model = mobilenet_v2(pretrained=True)\n",
    "\n",
    "        # Modify the first conv layer to accept 1 channel (grayscale)\n",
    "        first_conv = base_model.features[0][0]\n",
    "        new_conv = nn.Conv2d(1, first_conv.out_channels,\n",
    "                             kernel_size=first_conv.kernel_size,\n",
    "                             stride=first_conv.stride,\n",
    "                             padding=first_conv.padding,\n",
    "                             bias=False)\n",
    "        # Copy weights by averaging over RGB channels\n",
    "        with torch.no_grad():\n",
    "            new_conv.weight[:] = first_conv.weight.mean(dim=1, keepdim=True)\n",
    "        base_model.features[0][0] = new_conv\n",
    "\n",
    "        self.features = base_model.features\n",
    "        self.pool = nn.AdaptiveAvgPool2d((1, 1))\n",
    "        self.dropout = nn.Dropout(0.2)\n",
    "\n",
    "        in_features = base_model.last_channel\n",
    "        self.drowsy_head = nn.Linear(in_features, num_drowsy_classes)\n",
    "        self.gesture_head = nn.Linear(in_features, num_gesture_classes)\n",
    "\n",
    "    def forward(self, x):\n",
    "        x = self.features(x)\n",
    "        x = self.pool(x).squeeze(-1).squeeze(-1)\n",
    "        x = self.dropout(x)\n",
    "\n",
    "        d_out = self.drowsy_head(x)\n",
    "        g_out = self.gesture_head(x)\n",
    "        return d_out, g_out"
   ],
   "metadata": {
    "collapsed": false,
    "ExecuteTime": {
     "end_time": "2025-04-06T18:20:55.926431Z",
     "start_time": "2025-04-06T18:20:55.870209300Z"
    }
   },
   "id": "e12dedb90f4aa240"
  },
  {
   "cell_type": "markdown",
   "source": [
    "# Train/Test Split and DataLoader"
   ],
   "metadata": {
    "collapsed": false
   },
   "id": "bafd7ff5c187b43f"
  },
  {
   "cell_type": "code",
   "execution_count": 40,
   "outputs": [],
   "source": [
    "drowsy_path = \"drowsiness_data\"\n",
    "gesture_path = \"gesture_data\""
   ],
   "metadata": {
    "collapsed": false,
    "ExecuteTime": {
     "end_time": "2025-04-06T18:20:57.059954Z",
     "start_time": "2025-04-06T18:20:57.022564900Z"
    }
   },
   "id": "db87d999cef5caf"
  },
  {
   "cell_type": "code",
   "execution_count": 41,
   "outputs": [
    {
     "name": "stdout",
     "output_type": "stream",
     "text": [
      "Paired 8000 drowsy and gesture images.\n"
     ]
    }
   ],
   "source": [
    "# Load full dataset\n",
    "full_dataset = MultiTaskDataset(drowsy_path, gesture_path, transform=transform)\n",
    "\n",
    "\n",
    "train_size = int(0.8 * len(full_dataset))\n",
    "test_size = len(full_dataset) - train_size\n",
    "train_dataset, test_dataset = random_split(full_dataset, [train_size, test_size])\n",
    "\n",
    "# DataLoaders\n",
    "batch_size = 32\n",
    "train_loader = DataLoader(train_dataset, batch_size=batch_size, shuffle=True)\n",
    "test_loader = DataLoader(test_dataset, batch_size=batch_size, shuffle=False)"
   ],
   "metadata": {
    "collapsed": false,
    "ExecuteTime": {
     "end_time": "2025-04-06T18:20:57.839920100Z",
     "start_time": "2025-04-06T18:20:57.470773200Z"
    }
   },
   "id": "b33846c9b4d8e2d6"
  },
  {
   "cell_type": "markdown",
   "source": [
    "# Training Loop Setup"
   ],
   "metadata": {
    "collapsed": false
   },
   "id": "fa2dd0f50caf7517"
  },
  {
   "cell_type": "code",
   "execution_count": 42,
   "outputs": [
    {
     "name": "stdout",
     "output_type": "stream",
     "text": [
      "cuda\n"
     ]
    }
   ],
   "source": [
    "#device = torch.device(\"cuda\" if torch.cuda.is_available() else \"cpu\")\n",
    "device = torch.device(\"cuda\")\n",
    "print(device)"
   ],
   "metadata": {
    "collapsed": false,
    "ExecuteTime": {
     "end_time": "2025-04-06T18:20:59.093470900Z",
     "start_time": "2025-04-06T18:20:59.031691900Z"
    }
   },
   "id": "c3e2a93ecbf8e061"
  },
  {
   "cell_type": "code",
   "execution_count": 43,
   "outputs": [],
   "source": [
    "model = MultiTaskMobileNet(num_drowsy_classes=2, num_gesture_classes=len(os.listdir(gesture_path)))\n",
    "model.to(device)\n",
    "\n",
    "optimizer = optim.Adam(model.parameters(), lr=1e-4)"
   ],
   "metadata": {
    "collapsed": false,
    "ExecuteTime": {
     "end_time": "2025-04-06T18:20:59.800953900Z",
     "start_time": "2025-04-06T18:20:59.416069Z"
    }
   },
   "id": "89b83ca3c481501e"
  },
  {
   "cell_type": "code",
   "execution_count": 44,
   "outputs": [],
   "source": [
    "def evaluate(model, data_loader, device):\n",
    "    model.eval()\n",
    "    correct_drowsy = 0\n",
    "    correct_gesture = 0\n",
    "    total = 0\n",
    "    total_loss = 0\n",
    "\n",
    "    with torch.no_grad():\n",
    "        for imgs, d_labels, g_labels in data_loader:\n",
    "            imgs = imgs.to(device)\n",
    "            d_labels = d_labels.to(device)\n",
    "            g_labels = g_labels.to(device)\n",
    "\n",
    "            d_out, g_out = model(imgs)\n",
    "\n",
    "            loss_d = F.cross_entropy(d_out, d_labels)\n",
    "            loss_g = F.cross_entropy(g_out, g_labels)\n",
    "            loss = loss_d + loss_g\n",
    "            total_loss += loss.item()\n",
    "\n",
    "            _, d_pred = d_out.max(1)\n",
    "            _, g_pred = g_out.max(1)\n",
    "\n",
    "            correct_drowsy += (d_pred == d_labels).sum().item()\n",
    "            correct_gesture += (g_pred == g_labels).sum().item()\n",
    "            total += d_labels.size(0)\n",
    "\n",
    "    val_d_acc = 100 * correct_drowsy / total\n",
    "    val_g_acc = 100 * correct_gesture / total\n",
    "    val_loss = total_loss / len(data_loader)\n",
    "\n",
    "    return val_loss, val_d_acc, val_g_acc"
   ],
   "metadata": {
    "collapsed": false,
    "ExecuteTime": {
     "end_time": "2025-04-06T18:21:00.372599600Z",
     "start_time": "2025-04-06T18:21:00.323455900Z"
    }
   },
   "id": "d1b7431cc5b59143"
  },
  {
   "cell_type": "code",
   "execution_count": 45,
   "outputs": [
    {
     "name": "stdout",
     "output_type": "stream",
     "text": [
      "Epoch [1/20] Train Loss: 104.9863 | Train Drowsy Acc: 88.47% | Train Gesture Acc: 88.45%\n",
      "           ➤ Validation Loss: 0.2568 | Val Drowsy Acc: 95.06% | Val Gesture Acc: 95.19%\n",
      "Epoch [2/20] Train Loss: 35.3711 | Train Drowsy Acc: 96.80% | Train Gesture Acc: 96.88%\n",
      "           ➤ Validation Loss: 0.1679 | Val Drowsy Acc: 96.88% | Val Gesture Acc: 96.62%\n",
      "Epoch [3/20] Train Loss: 17.2151 | Train Drowsy Acc: 98.64% | Train Gesture Acc: 98.55%\n",
      "           ➤ Validation Loss: 0.1539 | Val Drowsy Acc: 97.12% | Val Gesture Acc: 97.06%\n",
      "Epoch [4/20] Train Loss: 12.3648 | Train Drowsy Acc: 99.03% | Train Gesture Acc: 99.02%\n",
      "           ➤ Validation Loss: 0.2044 | Val Drowsy Acc: 97.38% | Val Gesture Acc: 97.31%\n",
      "Epoch [5/20] Train Loss: 10.7943 | Train Drowsy Acc: 99.05% | Train Gesture Acc: 98.98%\n",
      "           ➤ Validation Loss: 0.2256 | Val Drowsy Acc: 97.00% | Val Gesture Acc: 97.00%\n",
      "Epoch [6/20] Train Loss: 3.7705 | Train Drowsy Acc: 99.75% | Train Gesture Acc: 99.78%\n",
      "           ➤ Validation Loss: 0.1850 | Val Drowsy Acc: 97.50% | Val Gesture Acc: 97.44%\n",
      "Epoch [7/20] Train Loss: 9.9749 | Train Drowsy Acc: 99.27% | Train Gesture Acc: 99.25%\n",
      "           ➤ Validation Loss: 0.2597 | Val Drowsy Acc: 97.31% | Val Gesture Acc: 97.25%\n",
      "Epoch [8/20] Train Loss: 9.3202 | Train Drowsy Acc: 99.33% | Train Gesture Acc: 99.31%\n",
      "           ➤ Validation Loss: 0.1672 | Val Drowsy Acc: 97.62% | Val Gesture Acc: 97.69%\n",
      "Epoch [9/20] Train Loss: 3.0929 | Train Drowsy Acc: 99.78% | Train Gesture Acc: 99.78%\n",
      "           ➤ Validation Loss: 0.1930 | Val Drowsy Acc: 97.75% | Val Gesture Acc: 97.62%\n",
      "Epoch [10/20] Train Loss: 5.6703 | Train Drowsy Acc: 99.45% | Train Gesture Acc: 99.42%\n",
      "           ➤ Validation Loss: 0.2377 | Val Drowsy Acc: 96.94% | Val Gesture Acc: 96.81%\n",
      "Epoch [11/20] Train Loss: 4.0343 | Train Drowsy Acc: 99.62% | Train Gesture Acc: 99.61%\n",
      "           ➤ Validation Loss: 0.1387 | Val Drowsy Acc: 98.19% | Val Gesture Acc: 98.12%\n",
      "Epoch [12/20] Train Loss: 0.8982 | Train Drowsy Acc: 99.95% | Train Gesture Acc: 99.95%\n",
      "           ➤ Validation Loss: 0.1816 | Val Drowsy Acc: 98.12% | Val Gesture Acc: 98.12%\n",
      "Epoch [13/20] Train Loss: 4.6841 | Train Drowsy Acc: 99.67% | Train Gesture Acc: 99.64%\n",
      "           ➤ Validation Loss: 0.3258 | Val Drowsy Acc: 96.94% | Val Gesture Acc: 96.94%\n",
      "Epoch [14/20] Train Loss: 6.7006 | Train Drowsy Acc: 99.41% | Train Gesture Acc: 99.44%\n",
      "           ➤ Validation Loss: 0.1708 | Val Drowsy Acc: 97.88% | Val Gesture Acc: 97.69%\n",
      "Epoch [15/20] Train Loss: 7.2398 | Train Drowsy Acc: 99.52% | Train Gesture Acc: 99.47%\n",
      "           ➤ Validation Loss: 0.2771 | Val Drowsy Acc: 97.31% | Val Gesture Acc: 97.31%\n",
      "Epoch [16/20] Train Loss: 5.6358 | Train Drowsy Acc: 99.48% | Train Gesture Acc: 99.45%\n",
      "           ➤ Validation Loss: 0.1771 | Val Drowsy Acc: 97.88% | Val Gesture Acc: 97.94%\n",
      "Epoch [17/20] Train Loss: 2.8586 | Train Drowsy Acc: 99.75% | Train Gesture Acc: 99.75%\n",
      "           ➤ Validation Loss: 0.1369 | Val Drowsy Acc: 98.44% | Val Gesture Acc: 98.38%\n",
      "Epoch [18/20] Train Loss: 1.4737 | Train Drowsy Acc: 99.88% | Train Gesture Acc: 99.91%\n",
      "           ➤ Validation Loss: 0.1826 | Val Drowsy Acc: 97.62% | Val Gesture Acc: 97.62%\n",
      "Epoch [19/20] Train Loss: 2.8250 | Train Drowsy Acc: 99.86% | Train Gesture Acc: 99.84%\n",
      "           ➤ Validation Loss: 0.1774 | Val Drowsy Acc: 97.88% | Val Gesture Acc: 97.88%\n",
      "Epoch [20/20] Train Loss: 2.6601 | Train Drowsy Acc: 99.77% | Train Gesture Acc: 99.75%\n",
      "           ➤ Validation Loss: 0.2263 | Val Drowsy Acc: 97.75% | Val Gesture Acc: 97.75%\n"
     ]
    }
   ],
   "source": [
    "num_epochs = 20\n",
    "\n",
    "for epoch in range(num_epochs):\n",
    "    model.train()\n",
    "    total_loss = 0\n",
    "\n",
    "    correct_drowsy = 0\n",
    "    correct_gesture = 0\n",
    "    total_samples = 0\n",
    "\n",
    "    for imgs, d_labels, g_labels in train_loader:\n",
    "        imgs = imgs.to(device)\n",
    "        d_labels = d_labels.to(device)\n",
    "        g_labels = g_labels.to(device)\n",
    "\n",
    "        optimizer.zero_grad()\n",
    "        d_out, g_out = model(imgs)\n",
    "\n",
    "        loss_d = F.cross_entropy(d_out, d_labels)\n",
    "        loss_g = F.cross_entropy(g_out, g_labels)\n",
    "        loss = loss_d + loss_g\n",
    "\n",
    "        loss.backward()\n",
    "        optimizer.step()\n",
    "\n",
    "        total_loss += loss.item()\n",
    "\n",
    "        _, d_pred = torch.max(d_out, 1)\n",
    "        _, g_pred = torch.max(g_out, 1)\n",
    "\n",
    "        correct_drowsy += (d_pred == d_labels).sum().item()\n",
    "        correct_gesture += (g_pred == g_labels).sum().item()\n",
    "        total_samples += d_labels.size(0)\n",
    "\n",
    "    train_d_acc = 100.0 * correct_drowsy / total_samples\n",
    "    train_g_acc = 100.0 * correct_gesture / total_samples\n",
    "\n",
    "    # 🔍 Evaluation (validation)\n",
    "    val_loss, val_d_acc, val_g_acc = evaluate(model, test_loader, device)\n",
    "\n",
    "    print(f\"Epoch [{epoch+1}/{num_epochs}] \"\n",
    "          f\"Train Loss: {total_loss:.4f} | Train Drowsy Acc: {train_d_acc:.2f}% | Train Gesture Acc: {train_g_acc:.2f}%\")\n",
    "    print(f\"           ➤ Validation Loss: {val_loss:.4f} | Val Drowsy Acc: {val_d_acc:.2f}% | Val Gesture Acc: {val_g_acc:.2f}%\\n\")"
   ],
   "metadata": {
    "collapsed": false,
    "ExecuteTime": {
     "end_time": "2025-04-06T18:52:46.361681700Z",
     "start_time": "2025-04-06T18:21:00.904357500Z"
    }
   },
   "id": "370d019115de379e"
  },
  {
   "cell_type": "code",
   "execution_count": 46,
   "outputs": [],
   "source": [
    "torch.save(model.state_dict(), \"models/model1_W.pth\")"
   ],
   "metadata": {
    "collapsed": false,
    "ExecuteTime": {
     "end_time": "2025-04-06T18:54:56.145699700Z",
     "start_time": "2025-04-06T18:54:55.902314500Z"
    }
   },
   "id": "5ac1316eaeed35b1"
  },
  {
   "cell_type": "code",
   "execution_count": 47,
   "outputs": [],
   "source": [
    "torch.save(model, \"models/model1_full.pth\")"
   ],
   "metadata": {
    "collapsed": false,
    "ExecuteTime": {
     "end_time": "2025-04-06T18:54:56.987478100Z",
     "start_time": "2025-04-06T18:54:56.692252700Z"
    }
   },
   "id": "a15ed7df75563075"
  }
 ],
 "metadata": {
  "kernelspec": {
   "display_name": "Python 3",
   "language": "python",
   "name": "python3"
  },
  "language_info": {
   "codemirror_mode": {
    "name": "ipython",
    "version": 2
   },
   "file_extension": ".py",
   "mimetype": "text/x-python",
   "name": "python",
   "nbconvert_exporter": "python",
   "pygments_lexer": "ipython2",
   "version": "2.7.6"
  }
 },
 "nbformat": 4,
 "nbformat_minor": 5
}
